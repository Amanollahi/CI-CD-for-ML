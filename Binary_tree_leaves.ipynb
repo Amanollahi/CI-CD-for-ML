{
  "nbformat": 4,
  "nbformat_minor": 0,
  "metadata": {
    "colab": {
      "provenance": [],
      "authorship_tag": "ABX9TyOmodDPg1QPyk0PelhFKvC1",
      "include_colab_link": true
    },
    "kernelspec": {
      "name": "python3",
      "display_name": "Python 3"
    },
    "language_info": {
      "name": "python"
    }
  },
  "cells": [
    {
      "cell_type": "markdown",
      "metadata": {
        "id": "view-in-github",
        "colab_type": "text"
      },
      "source": [
        "<a href=\"https://colab.research.google.com/github/Amanollahi/CI-CD-for-ML/blob/main/Binary_tree_leaves.ipynb\" target=\"_parent\"><img src=\"https://colab.research.google.com/assets/colab-badge.svg\" alt=\"Open In Colab\"/></a>"
      ]
    },
    {
      "cell_type": "code",
      "execution_count": 3,
      "metadata": {
        "id": "1QEKVhooQUm3"
      },
      "outputs": [],
      "source": [
        "from collections import defaultdict\n",
        "\n",
        "class TreeNode:\n",
        "    def __init__(self, val=0, left=None, right=None):\n",
        "        self.val = val\n",
        "        self.left = left\n",
        "        self.right = right\n",
        "\n",
        "class Solution:\n",
        "    def findLeaves(self, root: TreeNode) -> list[list[int]]:\n",
        "\n",
        "        leaves = defaultdict(list)\n",
        "\n",
        "        def dfs(node):\n",
        "            if not node:\n",
        "                return -1\n",
        "            left_height = dfs(node.left)\n",
        "            right_height = dfs(node.right)\n",
        "            height = 1 + max(left_height, right_height)\n",
        "            leaves[height].append(node.val)\n",
        "            return height\n",
        "\n",
        "\n",
        "        dfs(root)\n",
        "        return list(leaves.values())\n"
      ]
    },
    {
      "cell_type": "code",
      "source": [
        "# Example Tree\n",
        "root = TreeNode(1)\n",
        "root.left = TreeNode(8)\n",
        "root.right = TreeNode(8)\n",
        "root.left.left = TreeNode(4)\n",
        "root.left.right = TreeNode(5)\n",
        "\n",
        "solution = Solution()\n",
        "print(solution.findLeaves(root))\n",
        "# Output: [[4, 5, 3], [2], [1]]\n"
      ],
      "metadata": {
        "colab": {
          "base_uri": "https://localhost:8080/"
        },
        "id": "bJy83PxeQbf-",
        "outputId": "eb61aa20-25d1-4eab-a053-ff0c7b298918"
      },
      "execution_count": 6,
      "outputs": [
        {
          "output_type": "stream",
          "name": "stdout",
          "text": [
            "[[4, 5, 8], [8], [1]]\n"
          ]
        }
      ]
    },
    {
      "cell_type": "code",
      "source": [
        "class TimeMap:\n",
        "\n",
        "    def __init__(self):\n",
        "        self.keyStore = {}  # key : list of [val, timestamp]\n",
        "\n",
        "    def set(self, key: str, value: str, timestamp: int) -> None:\n",
        "        if key not in self.keyStore:\n",
        "            self.keyStore[key] = []\n",
        "        self.keyStore[key].append([value, timestamp])\n",
        "\n",
        "    def get(self, key: str, timestamp: int) -> str:\n",
        "        res, values = \"\", self.keyStore.get(key, [])\n",
        "        l, r = 0, len(values) - 1\n",
        "        while l <= r:\n",
        "            m = (l + r) // 2\n",
        "            if values[m][1] <= timestamp:\n",
        "                res = values[m][0]\n",
        "                l = m + 1\n",
        "            else:\n",
        "                r = m - 1\n",
        "        return res"
      ],
      "metadata": {
        "id": "fYPY6U6LfNlJ"
      },
      "execution_count": 7,
      "outputs": []
    },
    {
      "cell_type": "code",
      "source": [
        "timeMap = TimeMap()\n",
        "timeMap.set(\"foo\", \"bar\", 1)\n",
        "print(timeMap.get(\"foo\", 1))  # Output: \"bar\"\n",
        "print(timeMap.get(\"foo\", 3))  # Output: \"bar\"\n",
        "timeMap.set(\"foo\", \"bar2\", 4)\n",
        "print(timeMap.get(\"foo\", 4))  # Output: \"bar2\"\n",
        "print(timeMap.get(\"foo\", 5))  # Output: \"bar2\"\n"
      ],
      "metadata": {
        "colab": {
          "base_uri": "https://localhost:8080/"
        },
        "id": "kt7x5MCJfXdV",
        "outputId": "2ef26983-4a90-4ba6-8f71-4e42f21c3478"
      },
      "execution_count": 10,
      "outputs": [
        {
          "output_type": "stream",
          "name": "stdout",
          "text": [
            "bar\n",
            "bar\n",
            "bar2\n",
            "bar2\n"
          ]
        }
      ]
    }
  ]
}