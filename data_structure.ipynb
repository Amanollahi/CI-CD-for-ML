{
  "nbformat": 4,
  "nbformat_minor": 0,
  "metadata": {
    "colab": {
      "provenance": [],
      "authorship_tag": "ABX9TyNPSr2eMXNQA0lLbZBzypG7",
      "include_colab_link": true
    },
    "kernelspec": {
      "name": "python3",
      "display_name": "Python 3"
    },
    "language_info": {
      "name": "python"
    }
  },
  "cells": [
    {
      "cell_type": "markdown",
      "metadata": {
        "id": "view-in-github",
        "colab_type": "text"
      },
      "source": [
        "<a href=\"https://colab.research.google.com/github/Amanollahi/CI-CD-for-ML/blob/main/data_structure.ipynb\" target=\"_parent\"><img src=\"https://colab.research.google.com/assets/colab-badge.svg\" alt=\"Open In Colab\"/></a>"
      ]
    },
    {
      "cell_type": "code",
      "execution_count": null,
      "metadata": {
        "id": "6I9Ut_NcIIMR"
      },
      "outputs": [],
      "source": [
        "import unittest"
      ]
    },
    {
      "cell_type": "code",
      "source": [
        "class Node:\n",
        "    def __init__(self, key, value):\n",
        "        self.key = key\n",
        "        self.value = value\n",
        "        self.prev = None\n",
        "        self.next = None\n",
        "\n",
        "class LRUCache:\n",
        "    def __init__(self, capacity: int):\n",
        "        self.capacity = capacity\n",
        "        self.cache = {}  # map keys to nodes\n",
        "        # Initialize dummy head and tail nodes\n",
        "        self.head = Node(0, 0)\n",
        "        self.tail = Node(0, 0)\n",
        "        self.head.next = self.tail\n",
        "        self.tail.prev = self.head\n",
        "\n",
        "    def _remove(self, node):\n",
        "        \"\"\"Removes a node from the linked list.\"\"\"\n",
        "        prev = node.prev\n",
        "        next_node = node.next\n",
        "        prev.next = next_node\n",
        "        next_node.prev = prev\n",
        "\n",
        "    def _add_to_head(self, node):\n",
        "        \"\"\"Adds a node right after the head.\"\"\"\n",
        "        node.prev = self.head\n",
        "        node.next = self.head.next\n",
        "        self.head.next.prev = node\n",
        "        self.head.next = node\n",
        "\n",
        "    def get(self, key: int) -> int:\n",
        "        if key in self.cache:\n",
        "            node = self.cache[key]\n",
        "            # Move the accessed node to the head\n",
        "            self._remove(node)\n",
        "            self._add_to_head(node)\n",
        "            return node.value\n",
        "        return -1\n",
        "\n",
        "    def put(self, key: int, value: int) -> None:\n",
        "        if key in self.cache:\n",
        "            # Update the value and move to head\n",
        "            node = self.cache[key]\n",
        "            node.value = value\n",
        "            self._remove(node)\n",
        "            self._add_to_head(node)\n",
        "        else:\n",
        "            if len(self.cache) >= self.capacity:\n",
        "                # Remove the LRU item\n",
        "                lru = self.tail.prev\n",
        "                self._remove(lru)\n",
        "                del self.cache[lru.key]\n",
        "            # Insert the new node at the head\n",
        "            new_node = Node(key, value)\n",
        "            self.cache[key] = new_node\n",
        "            self._add_to_head(new_node)\n"
      ],
      "metadata": {
        "id": "jAwb19iwJnyz"
      },
      "execution_count": null,
      "outputs": []
    },
    {
      "cell_type": "code",
      "source": [
        "import unittest\n",
        "\n",
        "class TestLRUCache(unittest.TestCase):\n",
        "\n",
        "    def setUp(self):\n",
        "        # Initialize a new cache for each test with capacity 2\n",
        "        self.cache = LRUCache(2)\n",
        "\n",
        "    def test_basic_operations(self):\n",
        "        self.cache.put(1, 1)\n",
        "        self.cache.put(2, 2)\n",
        "        self.assertEqual(self.cache.get(1), 1)  # returns 1\n",
        "        self.assertEqual(self.cache.get(2), 2)  # returns 2\n",
        "\n",
        "    def test_eviction_policy(self):\n",
        "        self.cache.put(1, 1)\n",
        "        self.cache.put(2, 2)\n",
        "        self.cache.put(3, 3)  # evicts key 1\n",
        "        self.assertEqual(self.cache.get(1), -1)  # returns -1 (not found)\n",
        "        self.assertEqual(self.cache.get(2), 2)   # returns 2\n",
        "        self.assertEqual(self.cache.get(3), 3)   # returns 3\n",
        "\n",
        "    def test_update_existing_key(self):\n",
        "        self.cache.put(1, 1)\n",
        "        self.cache.put(2, 2)\n",
        "        self.cache.put(1, 10)  # updates key 1 with new value 10\n",
        "        self.assertEqual(self.cache.get(1), 10)  # returns 10\n",
        "        self.cache.put(3, 3)  # evicts key 2 as it is the least recently used\n",
        "        self.assertEqual(self.cache.get(2), -1)  # returns -1 (not found)\n",
        "\n",
        "    def test_multiple_evictions(self):\n",
        "        self.cache.put(1, 1)\n",
        "        self.cache.put(2, 2)\n",
        "        self.cache.put(3, 3)  # evicts key 1\n",
        "        self.assertEqual(self.cache.get(1), -1)  # returns -1 (not found)\n",
        "        self.cache.put(4, 4)  # evicts key 2\n",
        "        self.assertEqual(self.cache.get(2), -1)  # returns -1 (not found)\n",
        "        self.assertEqual(self.cache.get(3), 3)   # returns 3\n",
        "        self.assertEqual(self.cache.get(4), 4)   # returns 4\n",
        "\n",
        "    def test_get_on_empty_cache(self):\n",
        "        self.assertEqual(self.cache.get(1), -1)  # returns -1 (cache is empty)\n",
        "\n",
        "if __name__ == '__main__':\n",
        "    unittest.main(argv=[''], verbosity=2, exit=False)\n"
      ],
      "metadata": {
        "colab": {
          "base_uri": "https://localhost:8080/"
        },
        "id": "bAvWYst0KhIK",
        "outputId": "bbac58de-e5db-4c8c-d3df-f8066c933c7b"
      },
      "execution_count": null,
      "outputs": [
        {
          "output_type": "stream",
          "name": "stderr",
          "text": [
            "test_basic_operations (__main__.TestLRUCache) ... ok\n",
            "test_eviction_policy (__main__.TestLRUCache) ... ok\n",
            "test_get_on_empty_cache (__main__.TestLRUCache) ... ok\n",
            "test_multiple_evictions (__main__.TestLRUCache) ... ok\n",
            "test_update_existing_key (__main__.TestLRUCache) ... ok\n",
            "\n",
            "----------------------------------------------------------------------\n",
            "Ran 5 tests in 0.018s\n",
            "\n",
            "OK\n"
          ]
        }
      ]
    },
    {
      "cell_type": "code",
      "source": [
        "def longest_consecutive(nums):\n",
        "    num_set = set(nums)\n",
        "    longest_streak = 0\n",
        "\n",
        "    for num in num_set:\n",
        "        # Only start counting if num is the start of a sequence\n",
        "        if num - 1 not in num_set:\n",
        "            current_num = num\n",
        "            current_streak = 1\n",
        "\n",
        "            # Count the streak\n",
        "            while current_num + 1 in num_set:\n",
        "                current_num += 1\n",
        "                current_streak += 1\n",
        "\n",
        "            longest_streak = max(longest_streak, current_streak)\n",
        "\n",
        "    return longest_streak\n"
      ],
      "metadata": {
        "id": "sNhf5vVLJsfR"
      },
      "execution_count": null,
      "outputs": []
    },
    {
      "cell_type": "code",
      "source": [
        "import unittest\n",
        "\n",
        "class TestLongestConsecutive(unittest.TestCase):\n",
        "\n",
        "    def test_basic_sequence(self):\n",
        "        self.assertEqual(longest_consecutive([100, 4, 200, 1, 3, 2]), 4)  # [1, 2, 3, 4]\n",
        "\n",
        "    def test_empty_list(self):\n",
        "        self.assertEqual(longest_consecutive([]), 0)  # No elements, so no sequence\n",
        "\n",
        "    def test_single_element(self):\n",
        "        self.assertEqual(longest_consecutive([1]), 1)  # Only one element, so max sequence is 1\n",
        "\n",
        "    def test_all_consecutive(self):\n",
        "        self.assertEqual(longest_consecutive([1, 2, 3, 4, 5]), 5)  # Full sequence [1, 2, 3, 4, 5]\n",
        "\n",
        "    def test_no_consecutive_elements(self):\n",
        "        self.assertEqual(longest_consecutive([10, 5, 100]), 1)  # No consecutive numbers, so max sequence is 1\n",
        "\n",
        "    def test_mixed_consecutive_and_non_consecutive(self):\n",
        "        self.assertEqual(longest_consecutive([1, 9, 3, 10, 2, 20]), 3)  # [1, 2, 3] is the longest sequence\n",
        "\n",
        "    def test_duplicates(self):\n",
        "        self.assertEqual(longest_consecutive([1, 2, 2, 3, 4]), 4)  # [1, 2, 3, 4], duplicates don't affect the sequence\n",
        "\n",
        "if __name__ == '__main__':\n",
        "    unittest.main(argv=[''], verbosity=2, exit=False)\n"
      ],
      "metadata": {
        "colab": {
          "base_uri": "https://localhost:8080/"
        },
        "id": "YL9YICVIOfR5",
        "outputId": "42041fd5-1aca-4adb-ba14-73639b37b51f"
      },
      "execution_count": null,
      "outputs": [
        {
          "output_type": "stream",
          "name": "stderr",
          "text": [
            "test_basic_operations (__main__.TestLRUCache) ... ok\n",
            "test_eviction_policy (__main__.TestLRUCache) ... ok\n",
            "test_get_on_empty_cache (__main__.TestLRUCache) ... ok\n",
            "test_multiple_evictions (__main__.TestLRUCache) ... ok\n",
            "test_update_existing_key (__main__.TestLRUCache) ... ok\n",
            "test_all_consecutive (__main__.TestLongestConsecutive) ... ok\n",
            "test_basic_sequence (__main__.TestLongestConsecutive) ... ok\n",
            "test_duplicates (__main__.TestLongestConsecutive) ... ok\n",
            "test_empty_list (__main__.TestLongestConsecutive) ... ok\n",
            "test_mixed_consecutive_and_non_consecutive (__main__.TestLongestConsecutive) ... ok\n",
            "test_no_consecutive_elements (__main__.TestLongestConsecutive) ... ok\n",
            "test_single_element (__main__.TestLongestConsecutive) ... ok\n",
            "\n",
            "----------------------------------------------------------------------\n",
            "Ran 12 tests in 0.038s\n",
            "\n",
            "OK\n"
          ]
        }
      ]
    },
    {
      "cell_type": "code",
      "source": [
        "import heapq\n",
        "\n",
        "class KthLargest:\n",
        "    def __init__(self, k: int, nums: list):\n",
        "        self.k = k\n",
        "        self.min_heap = nums\n",
        "        heapq.heapify(self.min_heap)\n",
        "\n",
        "        # Ensure heap size is at most k\n",
        "        while len(self.min_heap) > k:\n",
        "            heapq.heappop(self.min_heap)\n",
        "\n",
        "    def add(self, val: int) -> int:\n",
        "        # Add the new element to the heap\n",
        "        heapq.heappush(self.min_heap, val)\n",
        "        # If heap exceeds k, pop the smallest element\n",
        "        if len(self.min_heap) > self.k:\n",
        "            heapq.heappop(self.min_heap)\n",
        "\n",
        "        # The root of the heap is the k-th largest element\n",
        "        return self.min_heap[0]\n"
      ],
      "metadata": {
        "id": "Vxq2Gdx1Jtak"
      },
      "execution_count": null,
      "outputs": []
    },
    {
      "cell_type": "code",
      "source": [
        "import unittest\n",
        "\n",
        "class TestKthLargest(unittest.TestCase):\n",
        "\n",
        "    def test_basic_functionality(self):\n",
        "        # Initialize with k=3 and a list [4, 5, 8, 2]\n",
        "        kthLargest = KthLargest(3, [4, 5, 8, 2])\n",
        "        self.assertEqual(kthLargest.add(3), 4)   # [4, 5, 8] -> 3 added, k-th largest is 4\n",
        "        self.assertEqual(kthLargest.add(5), 5)   # [5, 5, 8] -> 5 added, k-th largest is 5\n",
        "        self.assertEqual(kthLargest.add(10), 5)  # [5, 8, 10] -> 10 added, k-th largest is 5\n",
        "        self.assertEqual(kthLargest.add(9), 8)   # [8, 9, 10] -> 9 added, k-th largest is 8\n",
        "        self.assertEqual(kthLargest.add(4), 8)   # [8, 9, 10] -> 4 added, k-th largest is 8\n",
        "\n",
        "    def test_initial_size_smaller_than_k(self):\n",
        "        # Initialize with k=3 and a list with fewer than k elements\n",
        "        kthLargest = KthLargest(3, [5, 6])\n",
        "        self.assertEqual(kthLargest.add(3), 3)   # Now [3, 5, 6], k-th largest is 3\n",
        "        self.assertEqual(kthLargest.add(10), 5)  # [5, 6, 10], k-th largest is 5\n",
        "        self.assertEqual(kthLargest.add(9), 6)   # [6, 9, 10], k-th largest is 6\n",
        "        self.assertEqual(kthLargest.add(4), 6)   # [6, 9, 10], k-th largest remains 6\n",
        "\n",
        "    def test_adding_larger_elements(self):\n",
        "        # Initialize with k=2 and a list [1]\n",
        "        kthLargest = KthLargest(2, [1])\n",
        "        self.assertEqual(kthLargest.add(2), 1)   # [1, 2], k-th largest is 1\n",
        "        self.assertEqual(kthLargest.add(3), 2)   # [2, 3], k-th largest is 2\n",
        "        self.assertEqual(kthLargest.add(4), 3)   # [3, 4], k-th largest is 3\n",
        "\n",
        "    def test_adding_smaller_elements(self):\n",
        "        # Initialize with k=2 and a list [10, 20]\n",
        "        kthLargest = KthLargest(2, [10, 20])\n",
        "        self.assertEqual(kthLargest.add(5), 10)   # [10, 20], k-th largest remains 10\n",
        "        self.assertEqual(kthLargest.add(15), 15)  # [15, 20], k-th largest is now 15\n",
        "\n",
        "if __name__ == '__main__':\n",
        "    unittest.main(argv=[''], verbosity=2, exit=False)\n"
      ],
      "metadata": {
        "colab": {
          "base_uri": "https://localhost:8080/"
        },
        "id": "3iWo8E-DO8sN",
        "outputId": "7dd10474-3601-4457-e6b3-6ed0c2b768f5"
      },
      "execution_count": null,
      "outputs": [
        {
          "output_type": "stream",
          "name": "stderr",
          "text": [
            "test_adding_larger_elements (__main__.TestKthLargest) ... ok\n",
            "test_adding_smaller_elements (__main__.TestKthLargest) ... ok\n",
            "test_basic_functionality (__main__.TestKthLargest) ... ok\n",
            "test_initial_size_smaller_than_k (__main__.TestKthLargest) ... ok\n",
            "test_basic_operations (__main__.TestLRUCache) ... ok\n",
            "test_eviction_policy (__main__.TestLRUCache) ... ok\n",
            "test_get_on_empty_cache (__main__.TestLRUCache) ... ok\n",
            "test_multiple_evictions (__main__.TestLRUCache) ... ok\n",
            "test_update_existing_key (__main__.TestLRUCache) ... ok\n",
            "test_all_consecutive (__main__.TestLongestConsecutive) ... ok\n",
            "test_basic_sequence (__main__.TestLongestConsecutive) ... ok\n",
            "test_duplicates (__main__.TestLongestConsecutive) ... ok\n",
            "test_empty_list (__main__.TestLongestConsecutive) ... ok\n",
            "test_mixed_consecutive_and_non_consecutive (__main__.TestLongestConsecutive) ... ok\n",
            "test_no_consecutive_elements (__main__.TestLongestConsecutive) ... ok\n",
            "test_single_element (__main__.TestLongestConsecutive) ... ok\n",
            "\n",
            "----------------------------------------------------------------------\n",
            "Ran 16 tests in 0.043s\n",
            "\n",
            "OK\n"
          ]
        }
      ]
    },
    {
      "cell_type": "code",
      "source": [
        "import time\n",
        "from collections import defaultdict\n",
        "\n",
        "class RateLimiter:\n",
        "    def __init__(self, max_requests: int, time_window: int):\n",
        "        \"\"\"\n",
        "        :param max_requests: Maximum allowed requests within the time window\n",
        "        :param time_window: Time window in seconds for rate limiting\n",
        "        \"\"\"\n",
        "        self.max_requests = max_requests\n",
        "        self.time_window = time_window\n",
        "        self.user_data = defaultdict(lambda: {\"tokens\": max_requests, \"last_request_time\": time.time()})\n",
        "\n",
        "    def is_allowed(self, user_id: str) -> bool:\n",
        "        \"\"\"\n",
        "        Check if a request from the given user_id is allowed based on the rate limit.\n",
        "\n",
        "        :param user_id: The identifier for the user making the request\n",
        "        :return: True if the request is allowed, False if rate limit is exceeded\n",
        "        \"\"\"\n",
        "        current_time = time.time()\n",
        "        user_info = self.user_data[user_id]\n",
        "\n",
        "        # Calculate elapsed time since last request and replenish tokens\n",
        "        time_passed = current_time - user_info[\"last_request_time\"]\n",
        "        tokens_to_add = int(time_passed / self.time_window * self.max_requests)\n",
        "        user_info[\"tokens\"] = min(self.max_requests, user_info[\"tokens\"] + tokens_to_add)\n",
        "        user_info[\"last_request_time\"] = current_time\n",
        "\n",
        "        # Check if there are enough tokens to allow the request\n",
        "        if user_info[\"tokens\"] > 0:\n",
        "            user_info[\"tokens\"] -= 1\n",
        "            return True\n",
        "        else:\n",
        "            return False\n"
      ],
      "metadata": {
        "id": "Ug08xZWtPY1J"
      },
      "execution_count": null,
      "outputs": []
    },
    {
      "cell_type": "code",
      "source": [
        "import unittest\n",
        "import time\n",
        "\n",
        "class TestRateLimiter(unittest.TestCase):\n",
        "\n",
        "    def setUp(self):\n",
        "        # Initialize the RateLimiter with 3 requests per 10 seconds\n",
        "        self.rate_limiter = RateLimiter(max_requests=3, time_window=10)\n",
        "        self.user_id = \"user_123\"\n",
        "\n",
        "    def test_allow_requests_within_limit(self):\n",
        "        # Allow up to max_requests within the time window\n",
        "        self.assertTrue(self.rate_limiter.is_allowed(self.user_id))  # 1st request\n",
        "        self.assertTrue(self.rate_limiter.is_allowed(self.user_id))  # 2nd request\n",
        "        self.assertTrue(self.rate_limiter.is_allowed(self.user_id))  # 3rd request\n",
        "\n",
        "    def test_deny_requests_beyond_limit(self):\n",
        "        # Exceed the max_requests limit within the time window\n",
        "        self.rate_limiter.is_allowed(self.user_id)  # 1st request\n",
        "        self.rate_limiter.is_allowed(self.user_id)  # 2nd request\n",
        "        self.rate_limiter.is_allowed(self.user_id)  # 3rd request\n",
        "        self.assertFalse(self.rate_limiter.is_allowed(self.user_id))  # 4th request should be denied\n",
        "\n",
        "    def test_replenish_tokens_after_time_window(self):\n",
        "        # Exceed the limit first\n",
        "        self.rate_limiter.is_allowed(self.user_id)\n",
        "        self.rate_limiter.is_allowed(self.user_id)\n",
        "        self.rate_limiter.is_allowed(self.user_id)\n",
        "\n",
        "        # Verify the 4th request is denied\n",
        "        self.assertFalse(self.rate_limiter.is_allowed(self.user_id))\n",
        "\n",
        "        # Wait for the time window to replenish tokens\n",
        "        time.sleep(10)\n",
        "\n",
        "        # Tokens should now be replenished, allowing 3 more requests\n",
        "        self.assertTrue(self.rate_limiter.is_allowed(self.user_id))  # 1st new request\n",
        "        self.assertTrue(self.rate_limiter.is_allowed(self.user_id))  # 2nd new request\n",
        "        self.assertTrue(self.rate_limiter.is_allowed(self.user_id))  # 3rd new request\n",
        "\n",
        "    def test_multiple_users_independent_limits(self):\n",
        "        user_id_1 = \"user_123\"\n",
        "        user_id_2 = \"user_456\"\n",
        "\n",
        "        # Each user can independently make up to 3 requests\n",
        "        for _ in range(3):\n",
        "            self.assertTrue(self.rate_limiter.is_allowed(user_id_1))\n",
        "            self.assertTrue(self.rate_limiter.is_allowed(user_id_2))\n",
        "\n",
        "        # Additional requests should be denied for both users\n",
        "        self.assertFalse(self.rate_limiter.is_allowed(user_id_1))\n",
        "        self.assertFalse(self.rate_limiter.is_allowed(user_id_2))\n",
        "\n",
        "if __name__ == '__main__':\n",
        "    unittest.main(argv=[''], verbosity=2, exit=False)\n"
      ],
      "metadata": {
        "colab": {
          "base_uri": "https://localhost:8080/"
        },
        "id": "OAZP_0JEPeL5",
        "outputId": "4f73f7a2-9d05-41b2-f406-db58717a74cb"
      },
      "execution_count": null,
      "outputs": [
        {
          "output_type": "stream",
          "name": "stderr",
          "text": [
            "test_adding_larger_elements (__main__.TestKthLargest) ... ok\n",
            "test_adding_smaller_elements (__main__.TestKthLargest) ... ok\n",
            "test_basic_functionality (__main__.TestKthLargest) ... ok\n",
            "test_initial_size_smaller_than_k (__main__.TestKthLargest) ... ok\n",
            "test_basic_operations (__main__.TestLRUCache) ... ok\n",
            "test_eviction_policy (__main__.TestLRUCache) ... ok\n",
            "test_get_on_empty_cache (__main__.TestLRUCache) ... ok\n",
            "test_multiple_evictions (__main__.TestLRUCache) ... ok\n",
            "test_update_existing_key (__main__.TestLRUCache) ... ok\n",
            "test_all_consecutive (__main__.TestLongestConsecutive) ... ok\n",
            "test_basic_sequence (__main__.TestLongestConsecutive) ... ok\n",
            "test_duplicates (__main__.TestLongestConsecutive) ... ok\n",
            "test_empty_list (__main__.TestLongestConsecutive) ... ok\n",
            "test_mixed_consecutive_and_non_consecutive (__main__.TestLongestConsecutive) ... ok\n",
            "test_no_consecutive_elements (__main__.TestLongestConsecutive) ... ok\n",
            "test_single_element (__main__.TestLongestConsecutive) ... ok\n",
            "test_allow_requests_within_limit (__main__.TestRateLimiter) ... ok\n",
            "test_deny_requests_beyond_limit (__main__.TestRateLimiter) ... ok\n",
            "test_multiple_users_independent_limits (__main__.TestRateLimiter) ... ok\n",
            "test_replenish_tokens_after_time_window (__main__.TestRateLimiter) ... ok\n",
            "\n",
            "----------------------------------------------------------------------\n",
            "Ran 20 tests in 10.063s\n",
            "\n",
            "OK\n"
          ]
        }
      ]
    },
    {
      "cell_type": "code",
      "source": [
        "import os\n",
        "from collections import defaultdict\n",
        "\n",
        "def categorize_files_by_size(directory):\n",
        "    size_collection = defaultdict(list)\n",
        "\n",
        "    # مرور فایل‌های داخل دایرکتوری\n",
        "    for filename in os.listdir(directory):\n",
        "        file_path = os.path.join(directory, filename)\n",
        "\n",
        "        # بررسی اگر فایل است\n",
        "        if os.path.isfile(file_path):\n",
        "            # محاسبه سایز فایل\n",
        "            file_size = os.path.getsize(file_path)\n",
        "            # اضافه کردن فایل به دسته‌بندی مربوط به سایز آن\n",
        "            size_collection[file_size].append(filename)\n",
        "\n",
        "    return size_collection\n"
      ],
      "metadata": {
        "id": "lpnAA0VvQFaW"
      },
      "execution_count": null,
      "outputs": []
    },
    {
      "cell_type": "code",
      "source": [],
      "metadata": {
        "id": "J7GMGRzfQpUQ"
      },
      "execution_count": null,
      "outputs": []
    }
  ]
}